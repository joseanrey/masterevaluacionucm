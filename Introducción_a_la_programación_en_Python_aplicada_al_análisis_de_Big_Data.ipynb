{
  "nbformat": 4,
  "nbformat_minor": 0,
  "metadata": {
    "colab": {
      "provenance": [],
      "authorship_tag": "ABX9TyOmZkjITffEkjwWmhw3a7rw"
    },
    "kernelspec": {
      "name": "python3",
      "display_name": "Python 3"
    },
    "language_info": {
      "name": "python"
    }
  },
  "cells": [
    {
      "cell_type": "markdown",
      "source": [
        "# Objetivos de aprendizaje de la sesión\n",
        "Al terminal la sesión las participantes...\n",
        "*    Conocerán los fundamentos de *python* como lenguaje de programación.\n",
        "*    Serán capaces de analizar fragmentos de código sencillo en *python* interpretando su funcionalidad.\n",
        "*    Estarán motivadas para investigar de forma autónoma acerca del lenguaje de programación y sus posibilidades.\n",
        "\n",
        "*    Se acercarán a las aplicaciones de *python* para el análisis científico.\n",
        "*    Conocerán los fundamentos del *sentiment analysis* de agrupaciones de datos en el lenguaje de programación *python* en entornos de cálculo computacional.\n",
        "*    Estarán motivadas para incorporar a su práctica profesional herramientas de *sentiment analysis*.\n",
        "\n",
        "# Contenidos de la sesión\n",
        "*    Contexto de Python: qué es, usos aplicados, Python en la ciencia\n",
        "  *    Lenguaje de alto nivel interpretado, características básicas del funcionamiento, bibliotecas\n",
        "  *    Modo interactivo, usar Python en la nube (Collab).\n",
        "\t*    Elementos del lenguaje: sintaxis básica, variables, entrada y salida, comentarios, tipos de datos básicos, operadores aritméticos y lógicos, estructuras de control (bucles).\n",
        "*    Data Science en Python\n",
        "  *    Biblioteca Pandas y análisis de dataframes para tablas de dos dimensiones.\n",
        "  *    Sentiment based analisys:\n",
        "\t  *    [Hugging Face](https://huggingface.co): Repositorio de modelos de lenguaje de inteligencia artificial.\n",
        "\t\t*    Ejemplo de *sentiment analysis* y usos aplicados: *script* para el análisis de comentarios de vídeos de YouTube."
      ],
      "metadata": {
        "id": "uFcHNWfyWP0C"
      }
    },
    {
      "cell_type": "markdown",
      "source": [
        "# ¿Qué es Python?\n",
        "Python es un lenguaje interpretado de programación de alto nivel, multiplataforma y dinámico. El código de Python, almacenado en scripts, se lee y ejecuta cuando es necesario, a diferencia de otros lenguajes que traducen el código para que pueda ser ejecutado por una máquina y, comúnmente, se compilan en ficheros ejecutables (en Windows, los ficheros con extensión .exe). Python tiene un interprete que *lee* el código y realiza los pasos a ejecutar en tiempo real. Normalmente el intérprete de Python se encuentra incluido por defecto en los sistemas operativos basados en GNU/Linux, en múltiples arquitecturas, pero también está disponible para Windows, iOS y dispositivos con otros sistemas operativos."
      ],
      "metadata": {
        "id": "h93rReHT9AqH"
      }
    },
    {
      "cell_type": "markdown",
      "source": [
        "# 1. Elementos básicos del lenguaje\n"
      ],
      "metadata": {
        "id": "YBJ585CyLxAm"
      }
    },
    {
      "cell_type": "markdown",
      "source": [
        "## Utilizando python como una calculadora interactiva\n",
        "Con Python se pueden introducir números en su calculadora interactiva para realizar operaciones matemáticas con ellos, utilizando los operadores lógicos más habituales y sin necesidad de notación especial. Tambien se pueden asignar valores a variables y trabajar con ellas. Existen algunas notaciones especiales :\n",
        "\n",
        "*   Asignacion de variables: =\n",
        "*   Potencias: **\n",
        "*   Cociente que devuelve únicamente la parte entera: //\n",
        "\n"
      ],
      "metadata": {
        "id": "vztVqie5L9zd"
      }
    },
    {
      "cell_type": "code",
      "execution_count": null,
      "metadata": {
        "id": "SmwTa8QiK3ga"
      },
      "outputs": [],
      "source": [
        "# Operaciones matemáticas elementales\n",
        "3 + 4 * 7 - 100 * (4+5)"
      ]
    },
    {
      "cell_type": "code",
      "source": [
        "# Operaciones matemáticas asignando valores a variables\n",
        "dividendo = 100\n",
        "divisor = 50\n",
        "dividendo / divisor"
      ],
      "metadata": {
        "id": "y42ytzmRMqtZ"
      },
      "execution_count": null,
      "outputs": []
    },
    {
      "cell_type": "code",
      "source": [
        "# Operaciones matemáticas con operadores especiales\n",
        "dividendo = 10\n",
        "divisor = 3\n",
        "base = 5\n",
        "exponente = 2\n",
        "\n",
        "cociente = dividendo // divisor\n",
        "\n",
        "potencia = base ** exponente\n",
        "\n",
        "# Mostramos el resultado en pantalla con la función print()\n",
        "print('El cociente resultante es: '+ str(cociente))\n",
        "print('La potencia resultante es: '+ str(potencia))\n"
      ],
      "metadata": {
        "id": "2FO43NcjNiB8"
      },
      "execution_count": null,
      "outputs": []
    },
    {
      "cell_type": "markdown",
      "source": [
        "## Cadenas de texto\n",
        "Para manipular texto utilizaremos cadenas de caracteres entre comillas simples ('...') o comillas dobles (\"...\") con el mismo resultado. Cuando el intérprete de Python muestra cadenas de caracteres en pantalla lo hace sin comillas.\n",
        "*   Las operaciones con texto se pueden concatenar con el operador +.\n",
        "*   Para crear una cadena de caracteres con saltos de línea podemos usar tres comillas simples.\n",
        "*   Se puede acceder a la posición de un caracter determinado con un índice de 0 a n-1, siendo n el número de caracteres de la cadena.\n",
        "*   La función print('Texto') permite mostrar por pantalla una cadena de caracteres, se puede usar también con una variable.\n",
        "*   La función str(variable) permite transformar un dato en tipo cadena (string) para poder operar con el dato junto a otras cadenas de caracteres.\n",
        "*   La función len(cadena) devuelve el número de caracteres de la misma.\n",
        "\n",
        "\n"
      ],
      "metadata": {
        "id": "Go5pHtWiOvrB"
      }
    },
    {
      "cell_type": "code",
      "source": [
        "# Concatenación de cadenas\n",
        "cadena1 = 'Las cadenas de caracteres'\n",
        "espacio = ' '\n",
        "cadena2 = 'se pueden concantenar.'\n",
        "\n",
        "# Mostramos por pantalla\n",
        "print(cadena1 + espacio + cadena2)"
      ],
      "metadata": {
        "id": "dhDPNUJPQlbp"
      },
      "execution_count": null,
      "outputs": []
    },
    {
      "cell_type": "code",
      "source": [
        "# Cadenas de caracteres en diferentes líneas\n",
        "cadena1 = '''\n",
        "          Texto en más de una línea\n",
        "          para mostrar por pantalla.\n",
        "          '''\n",
        "\n",
        "print(cadena1)"
      ],
      "metadata": {
        "id": "jAEfitM3RGan"
      },
      "execution_count": null,
      "outputs": []
    },
    {
      "cell_type": "code",
      "source": [
        "# Conversión de datos matemáticos a cadenas de texto\n",
        "numero = 100\n",
        "numero_convertido_en_cadena = str(numero)\n",
        "\n",
        "print('Mostramos nuestro número como cadena de texto: ' + numero_convertido_en_cadena)"
      ],
      "metadata": {
        "id": "bKBvGWgZRYrX"
      },
      "execution_count": null,
      "outputs": []
    },
    {
      "cell_type": "code",
      "source": [
        "# Acceso a diferentes caracteres de una cadena según su índice\n",
        "palabra = 'abecedario'\n",
        "print(palabra[3])\n",
        "print(palabra[5:10])"
      ],
      "metadata": {
        "id": "hd_vQNelR0hG"
      },
      "execution_count": null,
      "outputs": []
    },
    {
      "cell_type": "code",
      "source": [
        "# Número de caracteres de una cadena\n",
        "cadena = 'hipopótamo'\n",
        "len(cadena)"
      ],
      "metadata": {
        "id": "0WYMK5pzSdz5"
      },
      "execution_count": null,
      "outputs": []
    },
    {
      "cell_type": "markdown",
      "source": [
        "## Listas\n",
        "Una lista es un conjunto de elementos separados por comas y entre corchetes. Se puede acceder a uno o a un rango de elementos igual que con las cadenas de texto. Se pueden añadir elementos con la función append() y también sustituir algunos asignando un nuevo valor al elemento de la posición deseada."
      ],
      "metadata": {
        "id": "yHreyl9cSrVI"
      }
    },
    {
      "cell_type": "code",
      "source": [
        "# Lista de autoras de teorías de evaluación\n",
        "lista = ['Carol Weiss', 'Marvin Alkin', 'Robert Stake', 'Jennifer Greene']\n",
        "print(lista[3])\n",
        "print(lista[2:4])\n",
        "\n",
        "# Añadimos un nuevo autor a la lista\n",
        "lista.append('David Fetterman')\n",
        "print(lista)\n",
        "\n",
        "# Añadimos un nuevo autor\n",
        "lista =  lista + ['Daniel Stufflebeam']\n",
        "print(lista)"
      ],
      "metadata": {
        "id": "BD1NBGKsS9Jk"
      },
      "execution_count": null,
      "outputs": []
    },
    {
      "cell_type": "code",
      "source": [
        "# Creación de listas que contengan listas\n",
        "lista = [['a','b','c'],['d', 'f', 'g']]\n",
        "print(lista[0][2])\n",
        "print(lista[1][2])\n"
      ],
      "metadata": {
        "id": "YriAFCycWCjj"
      },
      "execution_count": null,
      "outputs": []
    },
    {
      "cell_type": "markdown",
      "source": [
        "# 2. Elementos de control de flujo\n",
        "Los elementos de control de flujo permiten ir tomando decisiones para el manejo de datos y la continuación de la secuencia de un código en función de los diferentes valores que pueda ir tomando un valor o varios. Pueden ser secuenciales o interrumpir la secuencia."
      ],
      "metadata": {
        "id": "-ZbZyuNkXqOn"
      }
    },
    {
      "cell_type": "markdown",
      "source": [
        "## La sentencia condicional if\n",
        "Permite establecer una condicion que, en función de si se cumple o no, se desarrollarán unas acciones u otras. Los operadores básicos de comparación para el establecimiento de condiciones son los empleados comunmente en matemáticas: <, >, <=, >=, == (igual), != (distinto)."
      ],
      "metadata": {
        "id": "IwDYv1SPgfqp"
      }
    },
    {
      "cell_type": "code",
      "source": [
        "# Averiguamos si un número introducido por el usuario es igual, mayor o menor que 10.\n",
        "numero = int(input('Por favor, introduce un número entero: '))\n",
        "if numero == 10:\n",
        "  print('El número introducido es igual a 10.')\n",
        "elif numero < 10:\n",
        "  print('El número introducir es menor que 10.')\n",
        "else:\n",
        "  print('El número es mayor que 10.')\n",
        ""
      ],
      "metadata": {
        "id": "2AAA9IZdhRLp"
      },
      "execution_count": null,
      "outputs": []
    },
    {
      "cell_type": "markdown",
      "source": [
        "## La sentencia for\n",
        "Permite establecer bucles que se van repitiendo de forma iterativa sobre cualquier secuencia de elementos, que pueden ser cadenas de texto, listas, números u objetos de otro tipo. Si queremos iterar sobre una secuencia lineal de n números (que permitirá repetir una acción n veces) podemos usar la función\n",
        "range()."
      ],
      "metadata": {
        "id": "0hKk71MDiMJ9"
      }
    },
    {
      "cell_type": "code",
      "source": [
        "# Recorremos nuestra lista de autoras sobre teoría de evaluación y la mostramos por pantalla.\n",
        "\n",
        "lista = ['Carol Weiss', 'Marvin Alkin', 'Robert Stake', 'Jennifer Greene']\n",
        "for autora in lista:\n",
        "  print(autora)"
      ],
      "metadata": {
        "id": "Ho7jOzIriI-q"
      },
      "execution_count": null,
      "outputs": []
    },
    {
      "cell_type": "code",
      "source": [
        "# Ejercicio práctico: Recorremos la lista de autoras y si la autora que vamos a\n",
        "# mostrar por pantalla es Jennifer Greene, que es la última, añadimos a la lista\n",
        "# una autora más y mostamos la lista completa por pantalla al finalizar."
      ],
      "metadata": {
        "id": "Q1TKvNAyi9_J"
      },
      "execution_count": null,
      "outputs": []
    },
    {
      "cell_type": "code",
      "source": [
        "# Iteración sobre elementos numéricos con la función range().\n",
        "\n",
        "for numero in range(10):\n",
        "  print(numero)"
      ],
      "metadata": {
        "id": "JZlM25O8kUll"
      },
      "execution_count": null,
      "outputs": []
    },
    {
      "cell_type": "markdown",
      "source": [
        "## Sentencia while\n",
        "El bucle while se ejecuta siempre que una condición sea verdadera."
      ],
      "metadata": {
        "id": "qZZfv9HGlZr-"
      }
    },
    {
      "cell_type": "code",
      "source": [
        "# Secuencia iterativa que se ejecuta siempre que se cumple la condición\n",
        "\n",
        "numero = 0\n",
        "while numero <= 5 :\n",
        "  print(numero)\n",
        "  numero = numero + 1"
      ],
      "metadata": {
        "id": "fUjHrHaFlYIU"
      },
      "execution_count": null,
      "outputs": []
    },
    {
      "cell_type": "code",
      "source": [
        "# Ejercicio práctico: Mostrar en pantalla el nombre de las autoras de una lista.\n",
        "# Si el nombre que vamos a motrar es Jennifer Greene, que es la última, añadimos\n",
        "# a la lista una autora más y mostamos la lista completa por pantalla al finalizar."
      ],
      "metadata": {
        "id": "Xh2dxxh_mev3"
      },
      "execution_count": null,
      "outputs": []
    },
    {
      "cell_type": "markdown",
      "source": [
        "## Sentencia match\n",
        "Compara el valor de una expresión dada entre diferentes opciones, si la expresión coincide con una de las opciones realiza una acción."
      ],
      "metadata": {
        "id": "ouwy9G62nFuZ"
      }
    },
    {
      "cell_type": "code",
      "source": [
        "# Comparamos el valor de una expresión entre diferentes opciones y elegimos el\n",
        "# código correspondiente.\n",
        "\n",
        "telefono = '112'\n",
        "\n",
        "match telefono:\n",
        "  case '112':\n",
        "    print('El teléfono marcado es de emergencias')\n",
        "  case '091':\n",
        "    print('El teléfono marcado también es de emergencias')\n",
        "  case '092':\n",
        "    print('El teléfono marcado es de Emergencias Municipal')\n",
        "  case _:\n",
        "    print('El teléfono no existe.')"
      ],
      "metadata": {
        "id": "liS3JJqcncyO"
      },
      "execution_count": null,
      "outputs": []
    },
    {
      "cell_type": "markdown",
      "source": [
        "# 3. Definición de funciones\n",
        "Una función es un fragmento de código que realiza una tarea concreta y que puede recibir uno o varios argumentos que utiliza para realizar operaciones. Para definir una función se utiliza la palabra reservada def."
      ],
      "metadata": {
        "id": "RrRYqZLAo71N"
      }
    },
    {
      "cell_type": "code",
      "source": [
        "# Función que muestra la serie de Fibonacci hasta el último elemento menor que n.\n",
        "\n",
        "def fibonacci(n):\n",
        "    a = 0\n",
        "    b = 1\n",
        "\n",
        "    while a < n:\n",
        "        print(str(a) + ' ')\n",
        "        a = b\n",
        "        b = a+b\n",
        "    print()\n",
        "\n",
        "# Llamamos a la función\n",
        "fibonacci(1000)"
      ],
      "metadata": {
        "id": "CYn8vhlipc26"
      },
      "execution_count": null,
      "outputs": []
    },
    {
      "cell_type": "code",
      "source": [
        "# Ejercicio práctico: Realizar una función que muestre el año de nacimiento de\n",
        "# una autora de teorías de evalaución de nuestra lista de autoras.\n",
        "\n",
        "# lista = ['Carol Weiss', 'Marvin Alkin', 'Robert Stake', 'Jennifer Greene']"
      ],
      "metadata": {
        "id": "TbJ9rfz-qSYk"
      },
      "execution_count": null,
      "outputs": []
    },
    {
      "cell_type": "code",
      "source": [
        "# Ejercicio práctico: Completar el siguiente código para que la función permita\n",
        "# escribir en un documento de texto (*.txt) una lista de la compra con un bucle\n",
        "# for.\n",
        "\n",
        "lista_compra = ['Café', 'Patatas', 'Huevos', 'Aceite', 'Cebolla']\n",
        "\n",
        "def lista_de_la_compra(lista, fecha):\n",
        "  with open('lista.txt', 'w') as archivo:\n",
        "    archivo.write('Lista de la compra del día: ' + fecha + '\\n')\n",
        "    # En este espacio iría el bucle FOR\n",
        "    .\n",
        "    .\n",
        "    .\n",
        "    .\n",
        "\n",
        "# Llamamos a la función para ejecutarla\n",
        "lista_de_la_compra(lista_compra, '06/09/2023')"
      ],
      "metadata": {
        "id": "W-OZx2SPx9u8"
      },
      "execution_count": 89,
      "outputs": []
    },
    {
      "cell_type": "markdown",
      "source": [
        "# 4. Módulos\n",
        "Los conjuntos de funciones y variables se pueden agrupar en módulos independientes. Esto permite importarlos para reutilizarlos y clarificar el código, lo que facilita el ejercicio de programación, la limpieza del código y su mantenimiento. Por ejemplo, podríamos crear un módulo con diferentes funciones matemáticas de una calculadora y almacenarlo en un ficher func_calculadora.py y luego importarlo desde nuestro módulo principal. Así podríamos hacer llamadas a sus funciones sin necesidad de reescribiras en el mismo documento. Para importar un módulo se utiliza la palabra reservada import.\n",
        "\n",
        "La bliblioteca de Python posee muchos módulos por defecto pero también se pueden instalar nuevos con el programa pip. Una vez instalado en nuestro sistema un módulo lo podremos importar en nuestro código. Por ejemplo, podemos instalar e importar Pandas para manejar dataframes y realizar análisis científico de datos.\n",
        "\n",
        "Un conjunto de módulos constituyen una biblioteca y un conjunto de bibliotecas conforman un paquete."
      ],
      "metadata": {
        "id": "pu0wN8250Jd8"
      }
    },
    {
      "cell_type": "code",
      "source": [
        "# Instalación de la biblioteca Pandas. En el entorno de Google Collab se utiliza la expresión \"!pip\".\n",
        "\n",
        "!pip install pandas\n"
      ],
      "metadata": {
        "id": "IPjaRBVG5kg8"
      },
      "execution_count": null,
      "outputs": []
    },
    {
      "cell_type": "code",
      "source": [
        "# Una vez instalada la biblioteca la podemos importar a nuestro código para utilizar las funciones que tiene dentro.\n",
        "# Le asignamos un alias a la biblioteca para no tener que escribir el nombre cada vez que la llamemos.\n",
        "\n",
        "import pandas as pd"
      ],
      "metadata": {
        "id": "vSNPuLb-7kns"
      },
      "execution_count": null,
      "outputs": []
    },
    {
      "cell_type": "markdown",
      "source": [
        "# 5. El análisis científico con Python\n",
        "Debido a su facilidad de uso, su carácter abierto y gratuito, a que es un lenguaje multiplataforma y multi-infraestructura y a su gran comunidad que contribuye con cientos de paquetes disponibles (generalmente con licencias abiertas y gratuitas) es un lenguaje de programación muy útil para el análisis científico. Se trata de una herramienta muy versátil y poderosa para analizar grandes conjuntos de datos."
      ],
      "metadata": {
        "id": "VYyUjTS99aZ1"
      }
    },
    {
      "cell_type": "markdown",
      "source": [
        "## La biblioteca Pandas\n",
        "La biblioteca pandas es una herramienta de software de código abierto para el análisis de datos en Python. Es una de las bibliotecas más populares y ampliamente utilizadas en el campo del análisis de datos y la ciencia de datos.\n",
        "\n",
        "Pandas se enfoca en la manipulación y análisis de datos estructurados (conocidos como dataframes), como tablas y series de tiempo. Proporciona estructuras de datos y operaciones para trabajar con datos de manera eficiente y flexible.\n",
        "\n",
        "### Dataframes\n",
        "En pandas, un DataFrame es una estructura de datos bidimensional que se utiliza para almacenar y manipular datos de manera similar a una hoja de cálculo o una tabla de una base de datos. Un DataFrame es similar a una tabla en una base de datos o a una hoja de cálculo en Excel.\n",
        "\n",
        "Un DataFrame en pandas se compone de:\n",
        "*    Índices: Los índices son las etiquetas que se utilizan para identificar las filas y columnas del DataFrame. Los índices pueden ser números enteros, cadenas de texto o fechas.\n",
        "*    Columnas: Las columnas son las variables que se almacenan en el DataFrame. Cada columna tiene un nombre y un tipo de dato asociado.\n",
        "*    Filas: Las filas son las observaciones o registros que se almacenan en el DataFrame. Cada fila tiene un índice asociado.\n",
        "*    Datos: Los datos son los valores que se almacenan en cada celda del DataFrame.\n",
        "\n",
        "Los DataFrames en pandas tienen varias características importantes:\n",
        "\n",
        "*   Estructura de datos: Los DataFrames tienen una estructura de datos bidimensional, lo que significa que se pueden acceder a los datos mediante índices de fila y columna.\n",
        "*   Tipos de datos: Los DataFrames pueden almacenar diferentes tipos de datos, como números enteros, números flotantes, cadenas de texto, fechas, etc.\n",
        "*   Operaciones: Los DataFrames admiten una variedad de operaciones, como filtrado, ordenamiento, agrupación, pivoteo, etc.\n",
        "*   Integración con otras bibliotecas: Los DataFrames se pueden integrar con otras bibliotecas de Python, como NumPy, Matplotlib, Scikit-learn, etc.\n"
      ],
      "metadata": {
        "id": "xTAeGC5783a0"
      }
    },
    {
      "cell_type": "code",
      "source": [
        "# Creando un DataFrame en Python con Pandas\n",
        "# Como ya tenemos instalado Pandas no necesitamos instalarlo de nuevo.\n",
        "\n",
        "import pandas as pd\n",
        "\n",
        "# Crear un diccionario con datos\n",
        "datos = {'Nombre': ['Juan', 'María', 'Pedro', 'Ana'],\n",
        "         'Edad': [25, 31, 42, 28],\n",
        "         'Ciudad': ['Madrid', 'Barcelona', 'Valencia', 'Sevilla']}\n",
        "\n",
        "# Crear un DataFrame desde el diccionario\n",
        "df = pd.DataFrame(datos)\n",
        "\n",
        "# Mostrar el DataFrame\n",
        "print(df)\n"
      ],
      "metadata": {
        "id": "6-OpIxqw_CF_"
      },
      "execution_count": null,
      "outputs": []
    },
    {
      "cell_type": "code",
      "source": [
        "# Si queremos acceder a alguno de los datos anteriores...\n",
        "\n",
        "df.iloc[0, 2]"
      ],
      "metadata": {
        "id": "ktQiX6II_Zho"
      },
      "execution_count": null,
      "outputs": []
    },
    {
      "cell_type": "code",
      "source": [
        "# Si queremos acceder a una columna completa...\n",
        "\n",
        "df['Nombre']"
      ],
      "metadata": {
        "id": "RKTuKTSX_2gD"
      },
      "execution_count": null,
      "outputs": []
    },
    {
      "cell_type": "code",
      "source": [
        "# Acceso por condición...\n",
        "\n",
        "df[df['Edad'] > 30]\n"
      ],
      "metadata": {
        "id": "P6yNjtb-ACMZ"
      },
      "execution_count": null,
      "outputs": []
    },
    {
      "cell_type": "code",
      "source": [
        "# Con Pandas podemos analizar un DataFrame y obtener diferentes datos estadísticos.\n",
        "\n",
        "import pandas as pd\n",
        "\n",
        "# Crear el DataFrame\n",
        "df = pd.DataFrame({\n",
        "    'Nombre': ['Juan', 'María', 'Pedro', 'Ana'],\n",
        "    'Edad': [25, 31, 42, 28],\n",
        "    'Ciudad': ['Madrid', 'Barcelona', 'Valencia', 'Sevilla']\n",
        "})\n",
        "\n",
        "# Mostrar el DataFrame\n",
        "print(df)\n",
        "\n",
        "# Calcular la media de la edad\n",
        "media_edad = df['Edad'].mean()\n",
        "print(f\"Media de la edad: {media_edad}\")\n",
        "\n",
        "# Calcular la moda de la ciudad\n",
        "moda_ciudad = df['Ciudad'].mode()[0]\n",
        "print(f\"Moda de la ciudad: {moda_ciudad}\")\n",
        "\n",
        "# Calcular el número de personas por ciudad\n",
        "num_personas_ciudad = df['Ciudad'].value_counts()\n",
        "print(f\"Número de personas por ciudad: {num_personas_ciudad}\")\n",
        "\n",
        "# Filtrar las personas mayores de 30 años\n",
        "personas_mayores_30 = df[df['Edad'] > 30]\n",
        "print(f\"Personas mayores de 30 años: {personas_mayores_30}\")\n",
        "\n",
        "# Agrupar las personas por ciudad y calcular la media de la edad\n",
        "media_edad_ciudad = df.groupby('Ciudad')['Edad'].mean()\n",
        "print(f\"Media de la edad por ciudad: {media_edad_ciudad}\")\n"
      ],
      "metadata": {
        "id": "AJVzMd_3DJ3Q"
      },
      "execution_count": null,
      "outputs": []
    },
    {
      "cell_type": "code",
      "source": [
        "# Podemos abrir un fichero Excel desde nuestro ordenador y convertirlo en un DataFrame.\n",
        "# Posteriormente podremos realizar diferentes análisis con el DataFrame.\n",
        "\n",
        "import pandas as pd\n",
        "\n",
        "# Especificar la ruta del archivo Excel\n",
        "ruta_archivo = 'Datos1.xlsx'\n",
        "\n",
        "# Leer el archivo Excel y convertirlo en un DataFrame\n",
        "df = pd.read_excel(ruta_archivo, sheet_name='Hoja1', header=0)\n",
        "\n",
        "# Mostrar el DataFrame\n",
        "print(df)\n",
        "\n"
      ],
      "metadata": {
        "id": "fGICr2eeAgR-"
      },
      "execution_count": null,
      "outputs": []
    },
    {
      "cell_type": "code",
      "source": [
        "# Podemos cargar también un archivo mucho más grande, que no mostraremos en pantalla,\n",
        "# y que nos sirva para trabajar con Pandas. Por ejemplo, los datos de las asociaciones\n",
        "# de la ciudad de Madrid, distribuidas por distritos. Y calcular el número de entidades\n",
        "# por distrito.\n",
        "\n",
        "import pandas as pd\n",
        "\n",
        "# Especificar la ruta del archivo Excel\n",
        "ruta_archivo = 'Asociaciones_202408.xlsx'\n",
        "\n",
        "# Leer el archivo Excel y convertirlo en un DataFrame\n",
        "df = pd.read_excel(ruta_archivo, sheet_name='Asociaciones', header=0)\n",
        "\n",
        "# Calcular el número de entidades por distrito.\n",
        "num_entidades_distrito = df['Distrito'].value_counts()\n",
        "print(f\"Número de entidades por Distrito: {num_entidades_distrito}\")\n",
        "\n",
        "# Calcular la media de socios de las entidades.\n",
        "media_socios_entidades = df['Num_Socios'].mean()\n",
        "print(f\"Media de asociados/as por entidad: {media_socios_entidades}\")\n",
        "\n",
        "# Calcular la moda de socios de las entidades.\n",
        "moda_socias_entidades = df['Num_Socios'].mode()[0]\n",
        "print(f\"Moda de los socios de las entidades: {moda_socias_entidades}\")\n",
        "\n",
        "# Contar el número de entidades con 3 socias.\n",
        "# Filtrar las personas mayores de 30 años\n",
        "entidades_asociadas_3_personas = df['Num_Socios'] .value_counts()[3]\n",
        "print(f\"Entidades que tienen 3 socias, el número mínimo legal: {entidades_asociadas_3_personas}\")\n",
        "\n",
        "# Obtener las entidades con un mayor número de asociados\n",
        "entidades_mayor_asociados = df.nlargest(3, 'Num_Socios')['Razon_Social']\n",
        "print(f\"Las 3 entidades con mayor número de asociados son: {entidades_mayor_asociados}\")\n"
      ],
      "metadata": {
        "id": "euQ5Jj10YE4U"
      },
      "execution_count": null,
      "outputs": []
    },
    {
      "cell_type": "code",
      "source": [
        "# Ejercicio práctico: Copiar el ejemplo anterior y modificarlo para averiguar las\n",
        "# entidades de ámbito estatal que están registradas en el Censo del Ayuntamiento\n",
        "# de Madrid. También se podría averiguar cuántas hay de carácter CULTURAL o DEPORTIVO."
      ],
      "metadata": {
        "id": "IGv6Z84Bf-vE"
      },
      "execution_count": null,
      "outputs": []
    },
    {
      "cell_type": "markdown",
      "source": [
        "### Sentiment based analysis\n",
        "El Sentiment Based Analysis (SBA) es un tipo de análisis de texto que se utiliza para determinar la opinión o sentimiento de un texto, ya sea positivo, negativo o neutral. El objetivo del SBA es identificar el tono emocional de un texto y clasificarlo en una de las siguientes categorías:\n",
        "\n",
        "*    Positivo: el texto expresa una opinión o sentimiento positivo.\n",
        "*    Negativo: el texto expresa una opinión o sentimiento negativo.\n",
        "*    Neutral: el texto no expresa una opinión o sentimiento claro.\n",
        "\n",
        "En python se pueden utilizar modelos, tanto ya entrenados como entrenarlos tú, para realizar sentiment analysis sobre un DataFrame de Pandas. En general, un modelo es una serie de algoritmos de inteligenci artificial (que tienen la capacidad de aprendizaje propio y mejora de su propio desempeño) que han sido entrenados con un conjunto de datos para aprender a realizar una tarea específica, como clasificar imágenes, predecir valores numéricos, identificar patrones en datos o, en nuestro caso, realizar sentiment analysis. Los modelos ya entrenados, especialmente desarrollados para textos en inglés, los buscaremos en [HuggingFace](https://huggingface.co/models?sort=trending&search=sentiment+analysis), repositorio donde se alojan decenas de ellos.\n"
      ],
      "metadata": {
        "id": "owB6q90cduHt"
      }
    },
    {
      "cell_type": "code",
      "source": [
        "# Sentiment Analysis de los comentarios descargados desde un vídeo de Youtube, una entrevista reciente a Donald Trump.\n",
        "\n",
        "# Importamos la biblioteca Pandas\n",
        "import pandas as pd\n",
        "\n",
        "# Importamos la biblioteca Torch de procesamiento de lenguaje\n",
        "import torch\n",
        "\n",
        "# Importamos la biblioteca Transformes, de HuggingFace, para poder trabajar con\n",
        "# los modelos ya entrenados de HuggingFace\n",
        "from transformers import pipeline\n",
        "\n",
        "# Carga el modelo y la pipeline\n",
        "model_name = \"avichr/heBERT_sentiment_analysis\"\n",
        "pipeline = pipeline(\"sentiment-analysis\", model=model_name, tokenizer=model_name)\n",
        "\n",
        "# Especificar la ruta del archivo Excel\n",
        "ruta_archivo = 'comments_trump.xlsx'\n",
        "\n",
        "# Leer el archivo Excel y convertirlo en un DataFrame\n",
        "df = pd.read_excel(ruta_archivo, sheet_name='comments_trump', header=0)\n",
        "\n",
        "# Define la función para realizar el análisis de sentimiento\n",
        "def analizar_sentimiento(texto):\n",
        "    resultado = pipeline(texto, truncation=True, max_length=512)\n",
        "    return resultado[0][\"label\"]\n",
        "\n",
        "# Aplica la función al dataframe en una nueva columna 'sentimiento'\n",
        "# Va aplicando la función analizar_sentimiento a cada fila de la columna 'text'\n",
        "df[\"sentimiento\"] = df[\"text\"].apply(analizar_sentimiento)\n",
        "\n",
        "# Muestra un resumen del resultado\n",
        "print(\"Resumen del análisis de sentimiento:\")\n",
        "print(df[\"sentimiento\"].value_counts())\n",
        "\n",
        "# Guarda el dataframe con la nueva columna\n",
        "df.to_csv(\"resultado.csv\", index=False)"
      ],
      "metadata": {
        "id": "ksQIACJRggVS"
      },
      "execution_count": null,
      "outputs": []
    },
    {
      "cell_type": "markdown",
      "source": [
        "- ### Bibliografía\n",
        "\t- Dhinakaran, M., Deepthi, P., Mary, S. S. C., & Namdev, M. A. (2023). *Machine Learning For Absolute Beginners*. Booksclinic Publishing.\n",
        "\t- Géron, A. (2022). *Hands-on machine learning with Scikit-Learn, Keras, and TensorFlow*. \" O'Reilly Media, Inc.\".\n",
        "\t- Lutz, M. (2013). *Learning python: Powerful object-oriented programming*. \" O'Reilly Media, Inc.\".\n",
        "\t- Matthes, E. (2023). *Python crash course: A hands-on, project-based introduction to programming*. no starch press.\n",
        "\t- Müller, A. C., & Guido, S. (2016). *Introduction to machine learning with Python: a guide for data scientists*. \" O'Reilly Media, Inc.\".\n",
        "\t- Sweigart, A. (2019). *Automate the boring stuff with Python: practical programming for total beginners*. No Starch Press.\n",
        "- ### Referencias\n",
        "\t- [Tutorial oficial de Python en castellano](https://docs.python.org/es/3/tutorial/index.html)\n",
        "\t- [Tutorial básico de Python en inglés](https://www.learnpython.org/)\n",
        "\t- [A Practical Guide to Python for Data Science](https://learnpython.com/blog/python-data-science/)\n",
        "\t- [Pandas basics](https://www.learnpython.org/en/Pandas_Basics)\n",
        "\t- [Tutorial de Pandas](https://www.datacamp.com/es/tutorial/pandas?dc_referrer=https%3A%2F%2Fduckduckgo.com%2F)\n",
        "\t- [Getting Started with Sentiment Analysis using Python](https://huggingface.co/blog/sentiment-analysis-python)\n",
        "\t- [DuckDuckGo AI Chat](https://duck.ai/). Acceso anónimo y gratuito (con límite de conversaciones diarias) a modelos de IA populares, incluyendo GPT-4o mini, Claude 3, y Llama 3.1 y Mixtral de código abierto."
      ],
      "metadata": {
        "id": "B1nsQMBv29tE"
      }
    }
  ]
}